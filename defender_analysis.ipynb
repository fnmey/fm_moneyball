{
 "cells": [
  {
   "cell_type": "markdown",
   "id": "20fb9a62",
   "metadata": {},
   "source": [
    "# Football Manager - the moneyball algorithm"
   ]
  },
  {
   "cell_type": "markdown",
   "id": "57a38d9d",
   "metadata": {},
   "source": [
    "The following script\n",
    "\n",
    "\n",
    "\n",
    "\n",
    "\n",
    "\n",
    "\n",
    "\n",
    "\n"
   ]
  },
  {
   "cell_type": "markdown",
   "id": "98873dfc",
   "metadata": {},
   "source": [
    "<br><br>\n",
    "## First: Preparation of the dataset\n",
    "### Import the required modules\n",
    "We use bs4 for parsing the html and pandas/numpy for dataframe operations. In the final step we will use matplotlib for visualisation."
   ]
  },
  {
   "cell_type": "code",
   "execution_count": 1,
   "id": "1e6c8279",
   "metadata": {},
   "outputs": [],
   "source": [
    "from bs4 import BeautifulSoup\n",
    "import pandas as pd\n",
    "import numpy as np\n",
    "import matplotlib.pyplot as plt"
   ]
  },
  {
   "cell_type": "markdown",
   "id": "5072b857",
   "metadata": {},
   "source": [
    "<br><br>\n",
    "### Open the html\n",
    "Open the exported html-file from FM and decode it to get the german Umlaute right."
   ]
  },
  {
   "cell_type": "code",
   "execution_count": 2,
   "id": "aaaf352e",
   "metadata": {},
   "outputs": [],
   "source": [
    "with open(\"Test.html\", \"rb\") as fp:\n",
    "    html = fp.read().decode(\"utf-8\")\n",
    "    soup = BeautifulSoup(html, features=\"lxml\")"
   ]
  },
  {
   "cell_type": "markdown",
   "id": "460345ae",
   "metadata": {},
   "source": [
    "<br><br>\n",
    "### Parsing the file\n",
    "Parse the html-file with bs4 and find the important attributes as well as the column names.\n"
   ]
  },
  {
   "cell_type": "code",
   "execution_count": 3,
   "id": "09999903",
   "metadata": {},
   "outputs": [],
   "source": [
    "body = soup.find_all(\"th\")\n",
    "attr = soup.find_all(\"td\")"
   ]
  },
  {
   "cell_type": "markdown",
   "id": "f0fadb0a",
   "metadata": {},
   "source": [
    "<br><br>\n",
    "### Get columns and attributes\n",
    "Fill the column-list and attributes-list with the matching attributes in the html-document.\n"
   ]
  },
  {
   "cell_type": "code",
   "execution_count": 4,
   "id": "375387d1",
   "metadata": {},
   "outputs": [
    {
     "name": "stdout",
     "output_type": "stream",
     "text": [
      "We got 13 columns and 67 rows with 871 attributes. \n"
     ]
    }
   ],
   "source": [
    "columns = []\n",
    "for i in body:\n",
    "    columns.append(i.get_text())\n",
    "attributes = []\n",
    "for i in attr:\n",
    "    attributes.append(i.get_text())\n",
    "print(\"We got {} columns and {} rows with {} attributes. \".format(len(columns), round(len(attributes)/len(columns)),len(attributes)))"
   ]
  },
  {
   "cell_type": "markdown",
   "id": "15674b01",
   "metadata": {},
   "source": [
    "\n",
    "<br><br>\n",
    "## Let's start with the table work!\n",
    "Create the dataframe and use a for-loop to fill the dataframe with the extracted attributes\n"
   ]
  },
  {
   "cell_type": "code",
   "execution_count": 5,
   "id": "116c26b7",
   "metadata": {},
   "outputs": [],
   "source": [
    "tab = pd.DataFrame()\n",
    "for i in range(1,len(attributes),len(columns)):\n",
    "    liste1 = []\n",
    "    dict = {}\n",
    "    for j in range(1,len(columns)+1):\n",
    "        liste1.append(attributes[(i-1)+(j-1)])\n",
    "    for k in columns:\n",
    "         dict[k] = liste1[columns.index(k)]\n",
    "    tab = tab.append(dict,ignore_index=True)"
   ]
  },
  {
   "cell_type": "markdown",
   "id": "bcd56722",
   "metadata": {},
   "source": [
    "Show the number of rows the table has."
   ]
  },
  {
   "cell_type": "code",
   "execution_count": 6,
   "id": "6c839304",
   "metadata": {},
   "outputs": [
    {
     "data": {
      "text/plain": [
       "67"
      ]
     },
     "execution_count": 6,
     "metadata": {},
     "output_type": "execute_result"
    }
   ],
   "source": [
    "tab.shape[0]"
   ]
  },
  {
   "cell_type": "markdown",
   "id": "7d20e355",
   "metadata": {},
   "source": [
    "Show the first five rows of our generated table to get a first view on it."
   ]
  },
  {
   "cell_type": "code",
   "execution_count": 7,
   "id": "65289cfb",
   "metadata": {},
   "outputs": [
    {
     "data": {
      "text/html": [
       "<div>\n",
       "<style scoped>\n",
       "    .dataframe tbody tr th:only-of-type {\n",
       "        vertical-align: middle;\n",
       "    }\n",
       "\n",
       "    .dataframe tbody tr th {\n",
       "        vertical-align: top;\n",
       "    }\n",
       "\n",
       "    .dataframe thead th {\n",
       "        text-align: right;\n",
       "    }\n",
       "</style>\n",
       "<table border=\"1\" class=\"dataframe\">\n",
       "  <thead>\n",
       "    <tr style=\"text-align: right;\">\n",
       "      <th></th>\n",
       "      <th>Rec</th>\n",
       "      <th>Inf</th>\n",
       "      <th>Name</th>\n",
       "      <th>Distance</th>\n",
       "      <th>Int/90</th>\n",
       "      <th>Tck W</th>\n",
       "      <th>Tck R</th>\n",
       "      <th>Aer A/90</th>\n",
       "      <th>Hdrs W/90</th>\n",
       "      <th>Pas A</th>\n",
       "      <th>Pas %</th>\n",
       "      <th>Gl Mst</th>\n",
       "      <th>Mins</th>\n",
       "    </tr>\n",
       "  </thead>\n",
       "  <tbody>\n",
       "    <tr>\n",
       "      <th>0</th>\n",
       "      <td>- - 69 -</td>\n",
       "      <td></td>\n",
       "      <td>Lorenzo van Kleef</td>\n",
       "      <td>198.4km</td>\n",
       "      <td>1.66</td>\n",
       "      <td>41</td>\n",
       "      <td>67%</td>\n",
       "      <td>3.65</td>\n",
       "      <td>1.34</td>\n",
       "      <td>976</td>\n",
       "      <td>81%</td>\n",
       "      <td>0</td>\n",
       "      <td>2,492</td>\n",
       "    </tr>\n",
       "    <tr>\n",
       "      <th>1</th>\n",
       "      <td>- - 62 -</td>\n",
       "      <td></td>\n",
       "      <td>Anouar Kali</td>\n",
       "      <td>5.6km</td>\n",
       "      <td>1.18</td>\n",
       "      <td>2</td>\n",
       "      <td>100%</td>\n",
       "      <td>1.18</td>\n",
       "      <td>0.00</td>\n",
       "      <td>38</td>\n",
       "      <td>84%</td>\n",
       "      <td>0</td>\n",
       "      <td>76</td>\n",
       "    </tr>\n",
       "    <tr>\n",
       "      <th>2</th>\n",
       "      <td>- - 70 -</td>\n",
       "      <td></td>\n",
       "      <td>Mcmoordy King Hüther</td>\n",
       "      <td>0.0km</td>\n",
       "      <td>-</td>\n",
       "      <td>10</td>\n",
       "      <td>91%</td>\n",
       "      <td>-</td>\n",
       "      <td>-</td>\n",
       "      <td>300</td>\n",
       "      <td>65%</td>\n",
       "      <td>0</td>\n",
       "      <td>1,274</td>\n",
       "    </tr>\n",
       "    <tr>\n",
       "      <th>3</th>\n",
       "      <td>- - 76 -</td>\n",
       "      <td></td>\n",
       "      <td>Teun Bijleveld</td>\n",
       "      <td>31.6km</td>\n",
       "      <td>1.04</td>\n",
       "      <td>15</td>\n",
       "      <td>56%</td>\n",
       "      <td>2.08</td>\n",
       "      <td>0.21</td>\n",
       "      <td>175</td>\n",
       "      <td>75%</td>\n",
       "      <td>0</td>\n",
       "      <td>433</td>\n",
       "    </tr>\n",
       "    <tr>\n",
       "      <th>4</th>\n",
       "      <td>- - 89 -</td>\n",
       "      <td>Wnt</td>\n",
       "      <td>Jacky Donkor</td>\n",
       "      <td>156.6km</td>\n",
       "      <td>0.60</td>\n",
       "      <td>21</td>\n",
       "      <td>48%</td>\n",
       "      <td>2.73</td>\n",
       "      <td>0.51</td>\n",
       "      <td>614</td>\n",
       "      <td>64%</td>\n",
       "      <td>0</td>\n",
       "      <td>2,107</td>\n",
       "    </tr>\n",
       "  </tbody>\n",
       "</table>\n",
       "</div>"
      ],
      "text/plain": [
       "         Rec  Inf                  Name Distance Int/90 Tck W Tck R Aer A/90  \\\n",
       "0  - - 69 -           Lorenzo van Kleef  198.4km   1.66    41   67%     3.65   \n",
       "1  - - 62 -                 Anouar Kali    5.6km   1.18     2  100%     1.18   \n",
       "2  - - 70 -        Mcmoordy King Hüther    0.0km      -    10   91%        -   \n",
       "3  - - 76 -              Teun Bijleveld   31.6km   1.04    15   56%     2.08   \n",
       "4  - - 89 -   Wnt          Jacky Donkor  156.6km   0.60    21   48%     2.73   \n",
       "\n",
       "  Hdrs W/90 Pas A Pas % Gl Mst   Mins  \n",
       "0      1.34   976   81%      0  2,492  \n",
       "1      0.00    38   84%      0     76  \n",
       "2         -   300   65%      0  1,274  \n",
       "3      0.21   175   75%      0    433  \n",
       "4      0.51   614   64%      0  2,107  "
      ]
     },
     "execution_count": 7,
     "metadata": {},
     "output_type": "execute_result"
    }
   ],
   "source": [
    "tab.head()"
   ]
  },
  {
   "cell_type": "markdown",
   "id": "4c998c19",
   "metadata": {},
   "source": [
    "###### As we can see, our table has 67 rows and two unneccessary columns. Also we'd like to have the name column as index. \n",
    "<br><br>"
   ]
  },
  {
   "cell_type": "code",
   "execution_count": 8,
   "id": "8fa4ea90",
   "metadata": {},
   "outputs": [],
   "source": [
    "tab = tab.set_index(\"Name\")\n",
    "tab = tab.drop(columns=[\"Rec\",\"Inf\"])"
   ]
  },
  {
   "cell_type": "code",
   "execution_count": 9,
   "id": "fffb24b9",
   "metadata": {
    "scrolled": true
   },
   "outputs": [
    {
     "data": {
      "text/html": [
       "<div>\n",
       "<style scoped>\n",
       "    .dataframe tbody tr th:only-of-type {\n",
       "        vertical-align: middle;\n",
       "    }\n",
       "\n",
       "    .dataframe tbody tr th {\n",
       "        vertical-align: top;\n",
       "    }\n",
       "\n",
       "    .dataframe thead th {\n",
       "        text-align: right;\n",
       "    }\n",
       "</style>\n",
       "<table border=\"1\" class=\"dataframe\">\n",
       "  <thead>\n",
       "    <tr style=\"text-align: right;\">\n",
       "      <th></th>\n",
       "      <th>Distance</th>\n",
       "      <th>Int/90</th>\n",
       "      <th>Tck W</th>\n",
       "      <th>Tck R</th>\n",
       "      <th>Aer A/90</th>\n",
       "      <th>Hdrs W/90</th>\n",
       "      <th>Pas A</th>\n",
       "      <th>Pas %</th>\n",
       "      <th>Gl Mst</th>\n",
       "      <th>Mins</th>\n",
       "    </tr>\n",
       "    <tr>\n",
       "      <th>Name</th>\n",
       "      <th></th>\n",
       "      <th></th>\n",
       "      <th></th>\n",
       "      <th></th>\n",
       "      <th></th>\n",
       "      <th></th>\n",
       "      <th></th>\n",
       "      <th></th>\n",
       "      <th></th>\n",
       "      <th></th>\n",
       "    </tr>\n",
       "  </thead>\n",
       "  <tbody>\n",
       "    <tr>\n",
       "      <th>Lorenzo van Kleef</th>\n",
       "      <td>198.4km</td>\n",
       "      <td>1.66</td>\n",
       "      <td>41</td>\n",
       "      <td>67%</td>\n",
       "      <td>3.65</td>\n",
       "      <td>1.34</td>\n",
       "      <td>976</td>\n",
       "      <td>81%</td>\n",
       "      <td>0</td>\n",
       "      <td>2,492</td>\n",
       "    </tr>\n",
       "    <tr>\n",
       "      <th>Anouar Kali</th>\n",
       "      <td>5.6km</td>\n",
       "      <td>1.18</td>\n",
       "      <td>2</td>\n",
       "      <td>100%</td>\n",
       "      <td>1.18</td>\n",
       "      <td>0.00</td>\n",
       "      <td>38</td>\n",
       "      <td>84%</td>\n",
       "      <td>0</td>\n",
       "      <td>76</td>\n",
       "    </tr>\n",
       "    <tr>\n",
       "      <th>Mcmoordy King Hüther</th>\n",
       "      <td>0.0km</td>\n",
       "      <td>-</td>\n",
       "      <td>10</td>\n",
       "      <td>91%</td>\n",
       "      <td>-</td>\n",
       "      <td>-</td>\n",
       "      <td>300</td>\n",
       "      <td>65%</td>\n",
       "      <td>0</td>\n",
       "      <td>1,274</td>\n",
       "    </tr>\n",
       "    <tr>\n",
       "      <th>Teun Bijleveld</th>\n",
       "      <td>31.6km</td>\n",
       "      <td>1.04</td>\n",
       "      <td>15</td>\n",
       "      <td>56%</td>\n",
       "      <td>2.08</td>\n",
       "      <td>0.21</td>\n",
       "      <td>175</td>\n",
       "      <td>75%</td>\n",
       "      <td>0</td>\n",
       "      <td>433</td>\n",
       "    </tr>\n",
       "    <tr>\n",
       "      <th>Jacky Donkor</th>\n",
       "      <td>156.6km</td>\n",
       "      <td>0.60</td>\n",
       "      <td>21</td>\n",
       "      <td>48%</td>\n",
       "      <td>2.73</td>\n",
       "      <td>0.51</td>\n",
       "      <td>614</td>\n",
       "      <td>64%</td>\n",
       "      <td>0</td>\n",
       "      <td>2,107</td>\n",
       "    </tr>\n",
       "  </tbody>\n",
       "</table>\n",
       "</div>"
      ],
      "text/plain": [
       "                     Distance Int/90 Tck W Tck R Aer A/90 Hdrs W/90 Pas A  \\\n",
       "Name                                                                        \n",
       "Lorenzo van Kleef     198.4km   1.66    41   67%     3.65      1.34   976   \n",
       "Anouar Kali             5.6km   1.18     2  100%     1.18      0.00    38   \n",
       "Mcmoordy King Hüther    0.0km      -    10   91%        -         -   300   \n",
       "Teun Bijleveld         31.6km   1.04    15   56%     2.08      0.21   175   \n",
       "Jacky Donkor          156.6km   0.60    21   48%     2.73      0.51   614   \n",
       "\n",
       "                     Pas % Gl Mst   Mins  \n",
       "Name                                      \n",
       "Lorenzo van Kleef      81%      0  2,492  \n",
       "Anouar Kali            84%      0     76  \n",
       "Mcmoordy King Hüther   65%      0  1,274  \n",
       "Teun Bijleveld         75%      0    433  \n",
       "Jacky Donkor           64%      0  2,107  "
      ]
     },
     "execution_count": 9,
     "metadata": {},
     "output_type": "execute_result"
    }
   ],
   "source": [
    "tab.head()"
   ]
  },
  {
   "cell_type": "markdown",
   "id": "74b595b1",
   "metadata": {},
   "source": [
    "##### Now our table looks a lot better but still has rows with empty values in it.\n",
    "<br><br>"
   ]
  },
  {
   "cell_type": "markdown",
   "id": "0627eebc",
   "metadata": {},
   "source": [
    "Define a regex that identifies all numeric values (plus an optional \",\"- or \".\"-separator) in our table."
   ]
  },
  {
   "cell_type": "code",
   "execution_count": 10,
   "id": "88220fb9",
   "metadata": {},
   "outputs": [],
   "source": [
    "import re\n",
    "value = re.compile(r\"\\d+[,.]*\\d*\")"
   ]
  },
  {
   "cell_type": "markdown",
   "id": "b1d5a5a8",
   "metadata": {},
   "source": [
    "The following for-loop checks, if a row has empty-fields in it and additionally eliminates the thousand separator and units.\n",
    "Finally we convert all values to floats to make them accessible for the arithmetic operations."
   ]
  },
  {
   "cell_type": "code",
   "execution_count": 11,
   "id": "5056ec6e",
   "metadata": {},
   "outputs": [],
   "source": [
    "for i in tab.columns:\n",
    "\n",
    "    # Delete a row when there is an empty field in any column\n",
    "    for k in tab[i].iteritems():\n",
    "        tab = tab.drop(tab[tab[i] == \"-\"].index)\n",
    "\n",
    "    for j in range(len(tab[i])):\n",
    "        a = value.search(tab[i].iloc[j])\n",
    "        tab[i].iloc[j] = a.group()\n",
    "\n",
    "        # Eliminate the thousand-separator to convert the string to float\n",
    "        if \",\" in tab[i].iloc[j]:\n",
    "            tab[i].iloc[j] = tab[i].iloc[j].replace(\",\",\"\")\n",
    "        else:\n",
    "            pass\n",
    "\n",
    "        # Convert all values to float if possible\n",
    "        try:\n",
    "            tab[i].iloc[j] = float(tab[i].iloc[j])\n",
    "        except ValueError:\n",
    "            pass"
   ]
  },
  {
   "cell_type": "markdown",
   "id": "fd27bf74",
   "metadata": {},
   "source": [
    "Get the number of rows again and get a view on the adjusted table."
   ]
  },
  {
   "cell_type": "code",
   "execution_count": 12,
   "id": "a64e1c08",
   "metadata": {},
   "outputs": [
    {
     "data": {
      "text/plain": [
       "39"
      ]
     },
     "execution_count": 12,
     "metadata": {},
     "output_type": "execute_result"
    }
   ],
   "source": [
    "tab.shape[0]"
   ]
  },
  {
   "cell_type": "code",
   "execution_count": 13,
   "id": "f0a8dc14",
   "metadata": {},
   "outputs": [
    {
     "data": {
      "text/html": [
       "<div>\n",
       "<style scoped>\n",
       "    .dataframe tbody tr th:only-of-type {\n",
       "        vertical-align: middle;\n",
       "    }\n",
       "\n",
       "    .dataframe tbody tr th {\n",
       "        vertical-align: top;\n",
       "    }\n",
       "\n",
       "    .dataframe thead th {\n",
       "        text-align: right;\n",
       "    }\n",
       "</style>\n",
       "<table border=\"1\" class=\"dataframe\">\n",
       "  <thead>\n",
       "    <tr style=\"text-align: right;\">\n",
       "      <th></th>\n",
       "      <th>Distance</th>\n",
       "      <th>Int/90</th>\n",
       "      <th>Tck W</th>\n",
       "      <th>Tck R</th>\n",
       "      <th>Aer A/90</th>\n",
       "      <th>Hdrs W/90</th>\n",
       "      <th>Pas A</th>\n",
       "      <th>Pas %</th>\n",
       "      <th>Gl Mst</th>\n",
       "      <th>Mins</th>\n",
       "    </tr>\n",
       "    <tr>\n",
       "      <th>Name</th>\n",
       "      <th></th>\n",
       "      <th></th>\n",
       "      <th></th>\n",
       "      <th></th>\n",
       "      <th></th>\n",
       "      <th></th>\n",
       "      <th></th>\n",
       "      <th></th>\n",
       "      <th></th>\n",
       "      <th></th>\n",
       "    </tr>\n",
       "  </thead>\n",
       "  <tbody>\n",
       "    <tr>\n",
       "      <th>Lorenzo van Kleef</th>\n",
       "      <td>198.4</td>\n",
       "      <td>1.66</td>\n",
       "      <td>41.0</td>\n",
       "      <td>67.0</td>\n",
       "      <td>3.65</td>\n",
       "      <td>1.34</td>\n",
       "      <td>976.0</td>\n",
       "      <td>81.0</td>\n",
       "      <td>0.0</td>\n",
       "      <td>2492.0</td>\n",
       "    </tr>\n",
       "    <tr>\n",
       "      <th>Anouar Kali</th>\n",
       "      <td>5.6</td>\n",
       "      <td>1.18</td>\n",
       "      <td>2.0</td>\n",
       "      <td>100.0</td>\n",
       "      <td>1.18</td>\n",
       "      <td>0.0</td>\n",
       "      <td>38.0</td>\n",
       "      <td>84.0</td>\n",
       "      <td>0.0</td>\n",
       "      <td>76.0</td>\n",
       "    </tr>\n",
       "    <tr>\n",
       "      <th>Teun Bijleveld</th>\n",
       "      <td>31.6</td>\n",
       "      <td>1.04</td>\n",
       "      <td>15.0</td>\n",
       "      <td>56.0</td>\n",
       "      <td>2.08</td>\n",
       "      <td>0.21</td>\n",
       "      <td>175.0</td>\n",
       "      <td>75.0</td>\n",
       "      <td>0.0</td>\n",
       "      <td>433.0</td>\n",
       "    </tr>\n",
       "    <tr>\n",
       "      <th>Jacky Donkor</th>\n",
       "      <td>156.6</td>\n",
       "      <td>0.6</td>\n",
       "      <td>21.0</td>\n",
       "      <td>48.0</td>\n",
       "      <td>2.73</td>\n",
       "      <td>0.51</td>\n",
       "      <td>614.0</td>\n",
       "      <td>64.0</td>\n",
       "      <td>0.0</td>\n",
       "      <td>2107.0</td>\n",
       "    </tr>\n",
       "    <tr>\n",
       "      <th>Daryl van Mieghem</th>\n",
       "      <td>44.9</td>\n",
       "      <td>1.12</td>\n",
       "      <td>23.0</td>\n",
       "      <td>68.0</td>\n",
       "      <td>1.26</td>\n",
       "      <td>0.0</td>\n",
       "      <td>226.0</td>\n",
       "      <td>68.0</td>\n",
       "      <td>0.0</td>\n",
       "      <td>645.0</td>\n",
       "    </tr>\n",
       "  </tbody>\n",
       "</table>\n",
       "</div>"
      ],
      "text/plain": [
       "                  Distance Int/90 Tck W  Tck R Aer A/90 Hdrs W/90  Pas A  \\\n",
       "Name                                                                       \n",
       "Lorenzo van Kleef    198.4   1.66  41.0   67.0     3.65      1.34  976.0   \n",
       "Anouar Kali            5.6   1.18   2.0  100.0     1.18       0.0   38.0   \n",
       "Teun Bijleveld        31.6   1.04  15.0   56.0     2.08      0.21  175.0   \n",
       "Jacky Donkor         156.6    0.6  21.0   48.0     2.73      0.51  614.0   \n",
       "Daryl van Mieghem     44.9   1.12  23.0   68.0     1.26       0.0  226.0   \n",
       "\n",
       "                  Pas % Gl Mst    Mins  \n",
       "Name                                    \n",
       "Lorenzo van Kleef  81.0    0.0  2492.0  \n",
       "Anouar Kali        84.0    0.0    76.0  \n",
       "Teun Bijleveld     75.0    0.0   433.0  \n",
       "Jacky Donkor       64.0    0.0  2107.0  \n",
       "Daryl van Mieghem  68.0    0.0   645.0  "
      ]
     },
     "execution_count": 13,
     "metadata": {},
     "output_type": "execute_result"
    }
   ],
   "source": [
    "tab.head()"
   ]
  },
  {
   "cell_type": "markdown",
   "id": "f50bf728",
   "metadata": {},
   "source": [
    "\n",
    "<br><br>\n",
    "## Data manipulation"
   ]
  },
  {
   "cell_type": "markdown",
   "id": "6bd38e7e",
   "metadata": {},
   "source": [
    "The data in the table is widely distributed.\\\n",
    "To make the columns comparable to each other, we use the mathematical concepts of standard scores and normalized scores.\\\n",
    "https://en.wikipedia.org/wiki/Standard_score "
   ]
  },
  {
   "cell_type": "code",
   "execution_count": 14,
   "id": "b03e4ab0",
   "metadata": {},
   "outputs": [],
   "source": [
    "stand = lambda a: (a - np.mean(a)) / np.std(a)                      # formula to create a standard score\n",
    "norm = lambda a: (a - np.min(a)) / (np.max(a) - np.min(a))        # formula to create a normalized score"
   ]
  },
  {
   "cell_type": "markdown",
   "id": "01668793",
   "metadata": {},
   "source": [
    "For visibility reasons we create another Dataframe, to store the newly created values."
   ]
  },
  {
   "cell_type": "code",
   "execution_count": 15,
   "id": "dae93e11",
   "metadata": {},
   "outputs": [],
   "source": [
    "rating_tab = pd.DataFrame()"
   ]
  },
  {
   "cell_type": "markdown",
   "id": "50672ff6",
   "metadata": {},
   "source": [
    "<br><br>\n",
    "### Creating new values"
   ]
  },
  {
   "cell_type": "markdown",
   "id": "1f0fac5d",
   "metadata": {},
   "source": [
    "<br><br>\n",
    "The majority of the stats are defined as \"... per 90 minutes\" so we create a <b>games</b> variable to use it in the following steps."
   ]
  },
  {
   "cell_type": "code",
   "execution_count": 16,
   "id": "91c6649e",
   "metadata": {},
   "outputs": [
    {
     "data": {
      "text/plain": [
       "Name\n",
       "Lorenzo van Kleef    27.7\n",
       "Mohammed Tahiri      26.4\n",
       "Henri Weigelt        25.6\n",
       "Meris Skenderović    25.5\n",
       "Dehninio Muringen    24.9\n",
       "Name: Mins, dtype: float64"
      ]
     },
     "execution_count": 16,
     "metadata": {},
     "output_type": "execute_result"
    }
   ],
   "source": [
    "games = tab[\"Mins\"]/90\n",
    "round(games.astype(float),1).nlargest(5)"
   ]
  },
  {
   "cell_type": "markdown",
   "id": "8fb2c67f",
   "metadata": {},
   "source": [
    "<br><br>\n",
    "The <b>interceptions</b> are measured per 90 minutes, so we will multiply it with our games variable and afterwards use the normalized score."
   ]
  },
  {
   "cell_type": "code",
   "execution_count": 17,
   "id": "a09c177d",
   "metadata": {},
   "outputs": [
    {
     "data": {
      "text/plain": [
       "Name\n",
       "Lorenzo van Kleef    0.478647\n",
       "Anouar Kali               0.0\n",
       "Teun Bijleveld       0.042653\n",
       "Jacky Donkor         0.138911\n",
       "Daryl van Mieghem    0.074832\n",
       "Name: interceptions, dtype: object"
      ]
     },
     "execution_count": 17,
     "metadata": {},
     "output_type": "execute_result"
    }
   ],
   "source": [
    "rating_tab[\"interceptions\"] = norm(tab[\"Int/90\"]*games)\n",
    "rating_tab[\"interceptions\"].head()"
   ]
  },
  {
   "cell_type": "markdown",
   "id": "e1877a1e",
   "metadata": {},
   "source": [
    "<br><br>\n",
    "<b>Headers</b> are split into \"aerial duels attempted\" and \"headers won per 90 minutes\". To reward players, that made more overall attempts, we will multiply the attemps per 90 minutes with the total headers taken. Afterwards we will normalize this value."
   ]
  },
  {
   "cell_type": "code",
   "execution_count": 18,
   "id": "f2d14a1b",
   "metadata": {},
   "outputs": [
    {
     "data": {
      "text/plain": [
       "Name\n",
       "Lorenzo van Kleef    0.123642\n",
       "Anouar Kali          0.234042\n",
       "Teun Bijleveld       0.189297\n",
       "Jacky Donkor              0.0\n",
       "Daryl van Mieghem    0.182379\n",
       "Name: headers, dtype: object"
      ]
     },
     "execution_count": 18,
     "metadata": {},
     "output_type": "execute_result"
    }
   ],
   "source": [
    "tab[\"header_q\"] = stand(tab[\"Hdrs W/90\"]/tab[\"Aer A/90\"])\n",
    "tab[\"headers\"] = norm(tab[\"Aer A/90\"]*games)\n",
    "rating_tab[\"headers\"] = norm(tab[\"header_q\"]*tab[\"headers\"])\n",
    "rating_tab[\"headers\"].head()"
   ]
  },
  {
   "cell_type": "markdown",
   "id": "8a24f93f",
   "metadata": {},
   "source": [
    "<br><br>\n",
    "<b>Tackles</b> are measured by  \"tackling rate\" and \"tackles won\". So we will divide the won tackles with the tackling rate. Again we will multiply both values to reward active players. "
   ]
  },
  {
   "cell_type": "code",
   "execution_count": 19,
   "id": "f792f0bb",
   "metadata": {},
   "outputs": [
    {
     "data": {
      "text/plain": [
       "Name\n",
       "Lorenzo van Kleef    0.365091\n",
       "Anouar Kali          0.446829\n",
       "Teun Bijleveld       0.269226\n",
       "Jacky Donkor              0.0\n",
       "Daryl van Mieghem    0.411202\n",
       "Name: tackles, dtype: object"
      ]
     },
     "execution_count": 19,
     "metadata": {},
     "output_type": "execute_result"
    }
   ],
   "source": [
    "tab[\"tackles_q\"] = stand(tab[\"Tck R\"]/100)\n",
    "tab[\"tackles\"] = norm(tab[\"Tck W\"]/(tab[\"Tck R\"]/100))\n",
    "rating_tab[\"tackles\"] = norm(tab[\"tackles_q\"]*tab[\"tackles\"])\n",
    "rating_tab[\"tackles\"].head()"
   ]
  },
  {
   "cell_type": "markdown",
   "id": "a7b2b281",
   "metadata": {},
   "source": [
    "<br><br>\n",
    "<b>Passes</b> are measured by \"passing rate\" and \"attempted passes\". We will multiply these values and normalize it."
   ]
  },
  {
   "cell_type": "code",
   "execution_count": 20,
   "id": "9cf66ded",
   "metadata": {},
   "outputs": [
    {
     "data": {
      "text/plain": [
       "Name\n",
       "Lorenzo van Kleef    0.707259\n",
       "Anouar Kali          0.420598\n",
       "Teun Bijleveld       0.408586\n",
       "Jacky Donkor              0.0\n",
       "Daryl van Mieghem    0.323278\n",
       "Name: passes, dtype: object"
      ]
     },
     "execution_count": 20,
     "metadata": {},
     "output_type": "execute_result"
    }
   ],
   "source": [
    "tab[\"passes_q\"] = stand(tab[\"Pas %\"]/100)\n",
    "tab[\"passes\"] = norm(tab[\"Pas A\"])\n",
    "rating_tab[\"passes\"] = norm(tab[\"passes_q\"]*tab[\"passes\"])\n",
    "rating_tab[\"passes\"].head()"
   ]
  },
  {
   "cell_type": "markdown",
   "id": "2fab48b9",
   "metadata": {},
   "source": [
    "<br><br>\n",
    "The <b>distance covered</b> value gets multiplied with our games value."
   ]
  },
  {
   "cell_type": "code",
   "execution_count": 21,
   "id": "9c118bf0",
   "metadata": {},
   "outputs": [
    {
     "data": {
      "text/plain": [
       "Name\n",
       "Lorenzo van Kleef    0.887252\n",
       "Anouar Kali            0.8105\n",
       "Teun Bijleveld       0.801376\n",
       "Jacky Donkor         0.818776\n",
       "Daryl van Mieghem    0.757804\n",
       "Name: distance, dtype: object"
      ]
     },
     "execution_count": 21,
     "metadata": {},
     "output_type": "execute_result"
    }
   ],
   "source": [
    "rating_tab[\"distance\"] = norm(tab[\"Distance\"]/games)\n",
    "rating_tab[\"distance\"].head()"
   ]
  },
  {
   "cell_type": "markdown",
   "id": "ed50235a",
   "metadata": {},
   "source": [
    "<br><br>\n",
    "<b>Mistakes leading to a goal</b> get normalized and multiplied with -1, so that players, who made no mistakes get the highest rating."
   ]
  },
  {
   "cell_type": "code",
   "execution_count": 22,
   "id": "86f5becc",
   "metadata": {},
   "outputs": [],
   "source": [
    "rating_tab[\"mistakes\"] = norm(tab[\"Gl Mst\"]*(-1))"
   ]
  },
  {
   "cell_type": "markdown",
   "id": "56935b74",
   "metadata": {},
   "source": [
    "<br><br>\n",
    "### Creating and transforming the final rating table"
   ]
  },
  {
   "cell_type": "markdown",
   "id": "e7d0b49d",
   "metadata": {},
   "source": [
    "<br><br>\n",
    "The transforming of the given values is done and in the next step we will create a dictionary, which sets the weighting for each value."
   ]
  },
  {
   "cell_type": "code",
   "execution_count": 23,
   "id": "8c1e78ba",
   "metadata": {},
   "outputs": [],
   "source": [
    "weight_dict = {\"interceptions\": 4,\n",
    "               \"headers\":4,\n",
    "               \"tackles\": 4,\n",
    "               \"passes\": 2,\n",
    "               \"distance\": 2,\n",
    "               \"mistakes\": 1}"
   ]
  },
  {
   "cell_type": "markdown",
   "id": "5911a239",
   "metadata": {},
   "source": [
    "*The weightings can be read as: Interceptions, Headers and Tackles are worth twice times as much as passes and distance covered and four times as much as mistakes leading to a goal.*"
   ]
  },
  {
   "cell_type": "markdown",
   "id": "c99f4861",
   "metadata": {},
   "source": [
    "A formula for the creation of the final rating gets created and takes the weight_dict as an argument."
   ]
  },
  {
   "cell_type": "code",
   "execution_count": 24,
   "id": "9717c8ec",
   "metadata": {},
   "outputs": [],
   "source": [
    "def create_rating(dict):\n",
    "    c = 0\n",
    "    d = 0\n",
    "    for key, value in dict.items():                                 # iterate over the dictionary\n",
    "        if value > 0:                                               # exlude values with a zero-weighting\n",
    "            a = norm(rating_tab[key])*value                         # multiply the players value with its weighting\n",
    "            b = value\n",
    "            c += a                                                  # use c and d to add up all values\n",
    "            d += b\n",
    "        else:\n",
    "            pass\n",
    "    return c/d*100                                                  # get a number between 0 and 100\n",
    "rating_tab[\"rating\"] = create_rating(weight_dict)"
   ]
  },
  {
   "cell_type": "markdown",
   "id": "8dc17551",
   "metadata": {},
   "source": [
    "Now we will sort the by descending values"
   ]
  },
  {
   "cell_type": "code",
   "execution_count": 25,
   "id": "51a5bc5c",
   "metadata": {},
   "outputs": [],
   "source": [
    "rating_tab = rating_tab.sort_values(by=\"rating\", ascending=False)"
   ]
  },
  {
   "cell_type": "markdown",
   "id": "e9873d15",
   "metadata": {},
   "source": [
    "Get the columns of the table and remove the rating-value, because we will not display it in our final view."
   ]
  },
  {
   "cell_type": "code",
   "execution_count": 26,
   "id": "81da54e1",
   "metadata": {},
   "outputs": [],
   "source": [
    "columns = [i for i in rating_tab.columns]\n",
    "columns.remove(\"rating\")"
   ]
  },
  {
   "cell_type": "markdown",
   "id": "f58d5abd",
   "metadata": {},
   "source": [
    "Filter the table by the top 5 players by rating and define the players names as selection"
   ]
  },
  {
   "cell_type": "code",
   "execution_count": 27,
   "id": "290f2c2b",
   "metadata": {},
   "outputs": [
    {
     "data": {
      "text/html": [
       "<div>\n",
       "<style scoped>\n",
       "    .dataframe tbody tr th:only-of-type {\n",
       "        vertical-align: middle;\n",
       "    }\n",
       "\n",
       "    .dataframe tbody tr th {\n",
       "        vertical-align: top;\n",
       "    }\n",
       "\n",
       "    .dataframe thead th {\n",
       "        text-align: right;\n",
       "    }\n",
       "</style>\n",
       "<table border=\"1\" class=\"dataframe\">\n",
       "  <thead>\n",
       "    <tr style=\"text-align: right;\">\n",
       "      <th></th>\n",
       "      <th>interceptions</th>\n",
       "      <th>headers</th>\n",
       "      <th>tackles</th>\n",
       "      <th>passes</th>\n",
       "      <th>distance</th>\n",
       "      <th>mistakes</th>\n",
       "      <th>rating</th>\n",
       "    </tr>\n",
       "    <tr>\n",
       "      <th>Name</th>\n",
       "      <th></th>\n",
       "      <th></th>\n",
       "      <th></th>\n",
       "      <th></th>\n",
       "      <th></th>\n",
       "      <th></th>\n",
       "      <th></th>\n",
       "    </tr>\n",
       "  </thead>\n",
       "  <tbody>\n",
       "    <tr>\n",
       "      <th>Henri Weigelt</th>\n",
       "      <td>0.872281</td>\n",
       "      <td>1.000000</td>\n",
       "      <td>1.000000</td>\n",
       "      <td>0.749852</td>\n",
       "      <td>0.876960</td>\n",
       "      <td>1.0</td>\n",
       "      <td>92.604384</td>\n",
       "    </tr>\n",
       "    <tr>\n",
       "      <th>Tommy Grupe</th>\n",
       "      <td>0.851660</td>\n",
       "      <td>0.997824</td>\n",
       "      <td>0.649529</td>\n",
       "      <td>1.000000</td>\n",
       "      <td>0.690150</td>\n",
       "      <td>0.0</td>\n",
       "      <td>78.684412</td>\n",
       "    </tr>\n",
       "    <tr>\n",
       "      <th>Christian Dorda</th>\n",
       "      <td>1.000000</td>\n",
       "      <td>0.493513</td>\n",
       "      <td>0.391331</td>\n",
       "      <td>0.522968</td>\n",
       "      <td>0.924797</td>\n",
       "      <td>1.0</td>\n",
       "      <td>67.264142</td>\n",
       "    </tr>\n",
       "    <tr>\n",
       "      <th>Lukas Müller</th>\n",
       "      <td>0.851382</td>\n",
       "      <td>0.738198</td>\n",
       "      <td>0.624213</td>\n",
       "      <td>0.574137</td>\n",
       "      <td>0.674947</td>\n",
       "      <td>0.0</td>\n",
       "      <td>66.784348</td>\n",
       "    </tr>\n",
       "    <tr>\n",
       "      <th>Dehninio Muringen</th>\n",
       "      <td>0.871599</td>\n",
       "      <td>0.569316</td>\n",
       "      <td>0.422392</td>\n",
       "      <td>0.543883</td>\n",
       "      <td>0.879527</td>\n",
       "      <td>1.0</td>\n",
       "      <td>66.470881</td>\n",
       "    </tr>\n",
       "  </tbody>\n",
       "</table>\n",
       "</div>"
      ],
      "text/plain": [
       "                   interceptions   headers   tackles    passes  distance  \\\n",
       "Name                                                                       \n",
       "Henri Weigelt           0.872281  1.000000  1.000000  0.749852  0.876960   \n",
       "Tommy Grupe             0.851660  0.997824  0.649529  1.000000  0.690150   \n",
       "Christian Dorda         1.000000  0.493513  0.391331  0.522968  0.924797   \n",
       "Lukas Müller            0.851382  0.738198  0.624213  0.574137  0.674947   \n",
       "Dehninio Muringen       0.871599  0.569316  0.422392  0.543883  0.879527   \n",
       "\n",
       "                   mistakes     rating  \n",
       "Name                                    \n",
       "Henri Weigelt           1.0  92.604384  \n",
       "Tommy Grupe             0.0  78.684412  \n",
       "Christian Dorda         1.0  67.264142  \n",
       "Lukas Müller            0.0  66.784348  \n",
       "Dehninio Muringen       1.0  66.470881  "
      ]
     },
     "execution_count": 27,
     "metadata": {},
     "output_type": "execute_result"
    }
   ],
   "source": [
    "FILTER = 5\n",
    "rating_tab = rating_tab.astype(float).nlargest(FILTER,\"rating\")\n",
    "selection = rating_tab.index\n",
    "rating_tab"
   ]
  },
  {
   "cell_type": "markdown",
   "id": "40026841",
   "metadata": {},
   "source": [
    "*As you can see, the final table consists of 5 rows and our defined columns. To get a better overview, we will visualise the result.*"
   ]
  },
  {
   "cell_type": "markdown",
   "id": "1ad34b2b",
   "metadata": {},
   "source": [
    "<br><br>\n",
    "## Data visualisation"
   ]
  },
  {
   "cell_type": "markdown",
   "id": "78740ddf",
   "metadata": {},
   "source": [
    "The final image will contain a barchart. The color saturation depends on the weighting of each value. Therefore we will create all values with the maximum value so that we can define each color right in the next step. Finally we will append the selected color into a list.\n"
   ]
  },
  {
   "cell_type": "code",
   "execution_count": 28,
   "id": "1211b820",
   "metadata": {},
   "outputs": [],
   "source": [
    "max_value = max(weight_dict.values())\n",
    "for key, values in weight_dict.items():\n",
    "    weight_dict[key] = values/max_value"
   ]
  },
  {
   "cell_type": "code",
   "execution_count": 29,
   "id": "2bf00cbc",
   "metadata": {},
   "outputs": [],
   "source": [
    "selection_colors = []\n",
    "color_dict = {}\n",
    "\n",
    "for key, values in weight_dict.items():\n",
    "    color_dict[key] = (0,0.49,0,values)\n",
    "for i in columns:\n",
    "    selection_colors.append(color_dict[i])"
   ]
  },
  {
   "cell_type": "markdown",
   "id": "919b55be",
   "metadata": {},
   "source": [
    "The final and greatest step.\\\n",
    "First we will define the size of the figure, which will contain all subplots.\\\n",
    "Then we define the edgecolor of the bars, the y-ticks and y-labels and the font sizes.\\\n",
    "The following for loop creates a subplot for each of the selected values (see FILTER variable above) with specific labeling and styling. \\\n",
    "In the end the plot is shown."
   ]
  },
  {
   "cell_type": "code",
   "execution_count": 30,
   "id": "07512f56",
   "metadata": {},
   "outputs": [
    {
     "data": {
      "image/png": "[encoded data removed]",
      "text/plain": [
       "<Figure size 1760x320 with 5 Axes>"
      ]
     },
     "metadata": {
      "needs_background": "light"
     },
     "output_type": "display_data"
    }
   ],
   "source": [
    "fig, ax = plt.subplots(1,len(selection))\n",
    "fig.set_figwidth(22)\n",
    "fig.set_figheight(4)\n",
    "fig.set_dpi(80)\n",
    "\n",
    "edgecolor = (0.6,0.6,0.6,1)\n",
    "y_ticks = [0,0.25,0.5,0.75,1]\n",
    "y_labels = [\"0%\",\"\",\"50%\",\"\",\"100%\"]\n",
    "\n",
    "titlesize = 18\n",
    "y_labelsize = 13\n",
    "x_labelsize = 16\n",
    "\n",
    "\n",
    "\n",
    "for i in range(0,len(selection)):\n",
    "    plt.rc('axes', titlesize=15)  # fontsize of the axes title\n",
    "\n",
    "\n",
    "    y = []\n",
    "    x = []\n",
    "\n",
    "    for j in columns:\n",
    "        y.append(rating_tab[j][i])\n",
    "        x.append(j[0:3])\n",
    "\n",
    "    if i == 0:\n",
    "\n",
    "        plt.tick_params(direction=\"out\")\n",
    "        a = plt.subplot(1,len(selection),i+1)\n",
    "        plt.bar(x,y,color=selection_colors,edgecolor=edgecolor)\n",
    "        plt.title(rating_tab.index[i]+\"\\n\"+str(round(rating_tab[\"rating\"][i],2))+\"%\",size=titlesize)\n",
    "        plt.yticks(ticks=y_ticks,labels=y_labels,size=y_labelsize)\n",
    "        plt.xticks(ticks=x,labels=x,size=x_labelsize)\n",
    "        plt.ylim(0,1)\n",
    "\n",
    "\n",
    "    else:\n",
    "        plt.tick_params(direction=\"out\")\n",
    "        a = plt.subplot(1, len(selection), i + 1)\n",
    "        plt.bar(x, y, color=selection_colors, edgecolor=edgecolor)\n",
    "        plt.title(rating_tab.index[i] + \"\\n\" + str(round(rating_tab[\"rating\"][i], 2)) + \"%\",size=titlesize)\n",
    "        plt.yticks([])\n",
    "        plt.xticks(ticks=x, labels=x,size=x_labelsize)\n",
    "        plt.ylim(0, 1)\n",
    "\n",
    "\n",
    "\n",
    "\n",
    "\n",
    "plt.show()"
   ]
  }
 ],
 "metadata": {
  "kernelspec": {
   "display_name": "Python 3 (ipykernel)",
   "language": "python",
   "name": "python3"
  },
  "language_info": {
   "codemirror_mode": {
    "name": "ipython",
    "version": 3
   },
   "file_extension": ".py",
   "mimetype": "text/x-python",
   "name": "python",
   "nbconvert_exporter": "python",
   "pygments_lexer": "ipython3",
   "version": "3.9.6"
  }
 },
 "nbformat": 4,
 "nbformat_minor": 5
}
